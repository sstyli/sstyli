{
 "cells": [
  {
   "cell_type": "code",
   "execution_count": 1,
   "id": "9e787d97-6117-4a7d-93b4-270d936b9427",
   "metadata": {},
   "outputs": [
    {
     "name": "stdout",
     "output_type": "stream",
     "text": [
      "Requirement already satisfied: PyPDF2 in c:\\users\\styli\\miniconda3\\envs\\pydata-book\\lib\\site-packages (3.0.1)\n"
     ]
    }
   ],
   "source": [
    "!pip install PyPDF2"
   ]
  },
  {
   "cell_type": "code",
   "execution_count": 2,
   "id": "a6ea0c35-5d93-409a-af0b-97aa985d769e",
   "metadata": {},
   "outputs": [],
   "source": [
    "import PyPDF2"
   ]
  },
  {
   "cell_type": "code",
   "execution_count": 3,
   "id": "c51c09b9-493d-425a-b62d-6608ea0b142c",
   "metadata": {},
   "outputs": [],
   "source": [
    "from PyPDF2 import PdfReader"
   ]
  },
  {
   "cell_type": "code",
   "execution_count": 4,
   "id": "0a268d00-8ec4-45a8-85d1-fb08455b0eaf",
   "metadata": {},
   "outputs": [],
   "source": [
    "import re"
   ]
  },
  {
   "cell_type": "code",
   "execution_count": 5,
   "id": "144fc376-13d3-46c3-95cd-2002c27f626b",
   "metadata": {},
   "outputs": [
    {
     "name": "stdout",
     "output_type": "stream",
     "text": [
      "Requirement already satisfied: transformers in c:\\users\\styli\\miniconda3\\envs\\pydata-book\\lib\\site-packages (4.35.2)\n",
      "Requirement already satisfied: filelock in c:\\users\\styli\\miniconda3\\envs\\pydata-book\\lib\\site-packages (from transformers) (3.13.1)\n",
      "Requirement already satisfied: huggingface-hub<1.0,>=0.16.4 in c:\\users\\styli\\miniconda3\\envs\\pydata-book\\lib\\site-packages (from transformers) (0.17.3)\n",
      "Requirement already satisfied: numpy>=1.17 in c:\\users\\styli\\miniconda3\\envs\\pydata-book\\lib\\site-packages (from transformers) (1.26.0)\n",
      "Requirement already satisfied: packaging>=20.0 in c:\\users\\styli\\miniconda3\\envs\\pydata-book\\lib\\site-packages (from transformers) (23.2)\n",
      "Requirement already satisfied: pyyaml>=5.1 in c:\\users\\styli\\miniconda3\\envs\\pydata-book\\lib\\site-packages (from transformers) (6.0.1)\n",
      "Requirement already satisfied: regex!=2019.12.17 in c:\\users\\styli\\miniconda3\\envs\\pydata-book\\lib\\site-packages (from transformers) (2023.10.3)\n",
      "Requirement already satisfied: requests in c:\\users\\styli\\miniconda3\\envs\\pydata-book\\lib\\site-packages (from transformers) (2.31.0)\n",
      "Requirement already satisfied: tokenizers<0.19,>=0.14 in c:\\users\\styli\\miniconda3\\envs\\pydata-book\\lib\\site-packages (from transformers) (0.14.1)\n",
      "Requirement already satisfied: safetensors>=0.3.1 in c:\\users\\styli\\miniconda3\\envs\\pydata-book\\lib\\site-packages (from transformers) (0.4.0)\n",
      "Requirement already satisfied: tqdm>=4.27 in c:\\users\\styli\\miniconda3\\envs\\pydata-book\\lib\\site-packages (from transformers) (4.66.1)\n",
      "Requirement already satisfied: fsspec in c:\\users\\styli\\miniconda3\\envs\\pydata-book\\lib\\site-packages (from huggingface-hub<1.0,>=0.16.4->transformers) (2023.10.0)\n",
      "Requirement already satisfied: typing-extensions>=3.7.4.3 in c:\\users\\styli\\miniconda3\\envs\\pydata-book\\lib\\site-packages (from huggingface-hub<1.0,>=0.16.4->transformers) (4.8.0)\n",
      "Requirement already satisfied: colorama in c:\\users\\styli\\miniconda3\\envs\\pydata-book\\lib\\site-packages (from tqdm>=4.27->transformers) (0.4.6)\n",
      "Requirement already satisfied: charset-normalizer<4,>=2 in c:\\users\\styli\\miniconda3\\envs\\pydata-book\\lib\\site-packages (from requests->transformers) (3.3.0)\n",
      "Requirement already satisfied: idna<4,>=2.5 in c:\\users\\styli\\miniconda3\\envs\\pydata-book\\lib\\site-packages (from requests->transformers) (3.4)\n",
      "Requirement already satisfied: urllib3<3,>=1.21.1 in c:\\users\\styli\\miniconda3\\envs\\pydata-book\\lib\\site-packages (from requests->transformers) (2.0.6)\n",
      "Requirement already satisfied: certifi>=2017.4.17 in c:\\users\\styli\\miniconda3\\envs\\pydata-book\\lib\\site-packages (from requests->transformers) (2023.11.17)\n"
     ]
    }
   ],
   "source": [
    "!pip install transformers"
   ]
  },
  {
   "cell_type": "code",
   "execution_count": 6,
   "id": "16c766e1-29d2-402e-80eb-34965b4308f9",
   "metadata": {},
   "outputs": [],
   "source": [
    "from transformers import T5ForConditionalGeneration, T5Tokenizer"
   ]
  },
  {
   "cell_type": "code",
   "execution_count": 7,
   "id": "a0a9aba2-8efb-4ee2-af4d-6e71f4facf0d",
   "metadata": {},
   "outputs": [
    {
     "name": "stdout",
     "output_type": "stream",
     "text": [
      "Requirement already satisfied: pyttsx3 in c:\\users\\styli\\miniconda3\\envs\\pydata-book\\lib\\site-packages (2.90)\n",
      "Requirement already satisfied: comtypes in c:\\users\\styli\\miniconda3\\envs\\pydata-book\\lib\\site-packages (from pyttsx3) (1.2.0)\n",
      "Requirement already satisfied: pypiwin32 in c:\\users\\styli\\miniconda3\\envs\\pydata-book\\lib\\site-packages (from pyttsx3) (223)\n",
      "Requirement already satisfied: pywin32 in c:\\users\\styli\\miniconda3\\envs\\pydata-book\\lib\\site-packages (from pyttsx3) (306)\n"
     ]
    }
   ],
   "source": [
    "!pip install pyttsx3"
   ]
  },
  {
   "cell_type": "code",
   "execution_count": 8,
   "id": "69601b4c-a5e2-4f79-93f8-78106e018043",
   "metadata": {},
   "outputs": [],
   "source": [
    "import pyttsx3\n",
    "from IPython.display import Audio"
   ]
  },
  {
   "cell_type": "code",
   "execution_count": 9,
   "id": "77b1d294-8b35-435e-928b-1e9da43510b0",
   "metadata": {},
   "outputs": [
    {
     "name": "stdout",
     "output_type": "stream",
     "text": [
      "Requirement already satisfied: gradio in c:\\users\\styli\\miniconda3\\envs\\pydata-book\\lib\\site-packages (4.8.0)\n",
      "Requirement already satisfied: aiofiles<24.0,>=22.0 in c:\\users\\styli\\miniconda3\\envs\\pydata-book\\lib\\site-packages (from gradio) (23.2.1)\n",
      "Requirement already satisfied: altair<6.0,>=4.2.0 in c:\\users\\styli\\miniconda3\\envs\\pydata-book\\lib\\site-packages (from gradio) (5.2.0)\n",
      "Requirement already satisfied: fastapi in c:\\users\\styli\\miniconda3\\envs\\pydata-book\\lib\\site-packages (from gradio) (0.104.1)\n",
      "Requirement already satisfied: ffmpy in c:\\users\\styli\\miniconda3\\envs\\pydata-book\\lib\\site-packages (from gradio) (0.3.1)\n",
      "Requirement already satisfied: gradio-client==0.7.1 in c:\\users\\styli\\miniconda3\\envs\\pydata-book\\lib\\site-packages (from gradio) (0.7.1)\n",
      "Requirement already satisfied: httpx in c:\\users\\styli\\miniconda3\\envs\\pydata-book\\lib\\site-packages (from gradio) (0.25.2)\n",
      "Requirement already satisfied: huggingface-hub>=0.14.0 in c:\\users\\styli\\miniconda3\\envs\\pydata-book\\lib\\site-packages (from gradio) (0.17.3)\n",
      "Requirement already satisfied: importlib-resources<7.0,>=1.3 in c:\\users\\styli\\miniconda3\\envs\\pydata-book\\lib\\site-packages (from gradio) (6.1.0)\n",
      "Requirement already satisfied: jinja2<4.0 in c:\\users\\styli\\miniconda3\\envs\\pydata-book\\lib\\site-packages (from gradio) (3.1.2)\n",
      "Requirement already satisfied: markupsafe~=2.0 in c:\\users\\styli\\miniconda3\\envs\\pydata-book\\lib\\site-packages (from gradio) (2.1.3)\n",
      "Requirement already satisfied: matplotlib~=3.0 in c:\\users\\styli\\miniconda3\\envs\\pydata-book\\lib\\site-packages (from gradio) (3.8.2)\n",
      "Requirement already satisfied: numpy~=1.0 in c:\\users\\styli\\miniconda3\\envs\\pydata-book\\lib\\site-packages (from gradio) (1.26.0)\n",
      "Requirement already satisfied: orjson~=3.0 in c:\\users\\styli\\miniconda3\\envs\\pydata-book\\lib\\site-packages (from gradio) (3.9.10)\n",
      "Requirement already satisfied: packaging in c:\\users\\styli\\miniconda3\\envs\\pydata-book\\lib\\site-packages (from gradio) (23.2)\n",
      "Requirement already satisfied: pandas<3.0,>=1.0 in c:\\users\\styli\\miniconda3\\envs\\pydata-book\\lib\\site-packages (from gradio) (2.1.1)\n",
      "Requirement already satisfied: pillow<11.0,>=8.0 in c:\\users\\styli\\miniconda3\\envs\\pydata-book\\lib\\site-packages (from gradio) (10.1.0)\n",
      "Requirement already satisfied: pydantic>=2.0 in c:\\users\\styli\\miniconda3\\envs\\pydata-book\\lib\\site-packages (from gradio) (2.5.2)\n",
      "Requirement already satisfied: pydub in c:\\users\\styli\\miniconda3\\envs\\pydata-book\\lib\\site-packages (from gradio) (0.25.1)\n",
      "Requirement already satisfied: python-multipart in c:\\users\\styli\\miniconda3\\envs\\pydata-book\\lib\\site-packages (from gradio) (0.0.6)\n",
      "Requirement already satisfied: pyyaml<7.0,>=5.0 in c:\\users\\styli\\miniconda3\\envs\\pydata-book\\lib\\site-packages (from gradio) (6.0.1)\n",
      "Requirement already satisfied: requests~=2.0 in c:\\users\\styli\\miniconda3\\envs\\pydata-book\\lib\\site-packages (from gradio) (2.31.0)\n",
      "Requirement already satisfied: semantic-version~=2.0 in c:\\users\\styli\\miniconda3\\envs\\pydata-book\\lib\\site-packages (from gradio) (2.10.0)\n",
      "Requirement already satisfied: tomlkit==0.12.0 in c:\\users\\styli\\miniconda3\\envs\\pydata-book\\lib\\site-packages (from gradio) (0.12.0)\n",
      "Requirement already satisfied: typer[all]<1.0,>=0.9 in c:\\users\\styli\\miniconda3\\envs\\pydata-book\\lib\\site-packages (from gradio) (0.9.0)\n",
      "Requirement already satisfied: typing-extensions~=4.0 in c:\\users\\styli\\miniconda3\\envs\\pydata-book\\lib\\site-packages (from gradio) (4.8.0)\n",
      "Requirement already satisfied: uvicorn>=0.14.0 in c:\\users\\styli\\miniconda3\\envs\\pydata-book\\lib\\site-packages (from gradio) (0.24.0.post1)\n",
      "Requirement already satisfied: fsspec in c:\\users\\styli\\miniconda3\\envs\\pydata-book\\lib\\site-packages (from gradio-client==0.7.1->gradio) (2023.10.0)\n",
      "Requirement already satisfied: websockets<12.0,>=10.0 in c:\\users\\styli\\miniconda3\\envs\\pydata-book\\lib\\site-packages (from gradio-client==0.7.1->gradio) (11.0.3)\n",
      "Requirement already satisfied: jsonschema>=3.0 in c:\\users\\styli\\miniconda3\\envs\\pydata-book\\lib\\site-packages (from altair<6.0,>=4.2.0->gradio) (4.19.1)\n",
      "Requirement already satisfied: toolz in c:\\users\\styli\\miniconda3\\envs\\pydata-book\\lib\\site-packages (from altair<6.0,>=4.2.0->gradio) (0.12.0)\n",
      "Requirement already satisfied: filelock in c:\\users\\styli\\miniconda3\\envs\\pydata-book\\lib\\site-packages (from huggingface-hub>=0.14.0->gradio) (3.13.1)\n",
      "Requirement already satisfied: tqdm>=4.42.1 in c:\\users\\styli\\miniconda3\\envs\\pydata-book\\lib\\site-packages (from huggingface-hub>=0.14.0->gradio) (4.66.1)\n",
      "Requirement already satisfied: contourpy>=1.0.1 in c:\\users\\styli\\miniconda3\\envs\\pydata-book\\lib\\site-packages (from matplotlib~=3.0->gradio) (1.2.0)\n",
      "Requirement already satisfied: cycler>=0.10 in c:\\users\\styli\\miniconda3\\envs\\pydata-book\\lib\\site-packages (from matplotlib~=3.0->gradio) (0.12.1)\n",
      "Requirement already satisfied: fonttools>=4.22.0 in c:\\users\\styli\\miniconda3\\envs\\pydata-book\\lib\\site-packages (from matplotlib~=3.0->gradio) (4.45.1)\n",
      "Requirement already satisfied: kiwisolver>=1.3.1 in c:\\users\\styli\\miniconda3\\envs\\pydata-book\\lib\\site-packages (from matplotlib~=3.0->gradio) (1.4.5)\n",
      "Requirement already satisfied: pyparsing>=2.3.1 in c:\\users\\styli\\miniconda3\\envs\\pydata-book\\lib\\site-packages (from matplotlib~=3.0->gradio) (3.1.1)\n",
      "Requirement already satisfied: python-dateutil>=2.7 in c:\\users\\styli\\miniconda3\\envs\\pydata-book\\lib\\site-packages (from matplotlib~=3.0->gradio) (2.8.2)\n",
      "Requirement already satisfied: pytz>=2020.1 in c:\\users\\styli\\miniconda3\\envs\\pydata-book\\lib\\site-packages (from pandas<3.0,>=1.0->gradio) (2023.3.post1)\n",
      "Requirement already satisfied: tzdata>=2022.1 in c:\\users\\styli\\miniconda3\\envs\\pydata-book\\lib\\site-packages (from pandas<3.0,>=1.0->gradio) (2023.3)\n",
      "Requirement already satisfied: annotated-types>=0.4.0 in c:\\users\\styli\\miniconda3\\envs\\pydata-book\\lib\\site-packages (from pydantic>=2.0->gradio) (0.6.0)\n",
      "Requirement already satisfied: pydantic-core==2.14.5 in c:\\users\\styli\\miniconda3\\envs\\pydata-book\\lib\\site-packages (from pydantic>=2.0->gradio) (2.14.5)\n",
      "Requirement already satisfied: charset-normalizer<4,>=2 in c:\\users\\styli\\miniconda3\\envs\\pydata-book\\lib\\site-packages (from requests~=2.0->gradio) (3.3.0)\n",
      "Requirement already satisfied: idna<4,>=2.5 in c:\\users\\styli\\miniconda3\\envs\\pydata-book\\lib\\site-packages (from requests~=2.0->gradio) (3.4)\n",
      "Requirement already satisfied: urllib3<3,>=1.21.1 in c:\\users\\styli\\miniconda3\\envs\\pydata-book\\lib\\site-packages (from requests~=2.0->gradio) (2.0.6)\n",
      "Requirement already satisfied: certifi>=2017.4.17 in c:\\users\\styli\\miniconda3\\envs\\pydata-book\\lib\\site-packages (from requests~=2.0->gradio) (2023.11.17)\n",
      "Requirement already satisfied: click<9.0.0,>=7.1.1 in c:\\users\\styli\\miniconda3\\envs\\pydata-book\\lib\\site-packages (from typer[all]<1.0,>=0.9->gradio) (8.1.7)\n",
      "Requirement already satisfied: colorama<0.5.0,>=0.4.3 in c:\\users\\styli\\miniconda3\\envs\\pydata-book\\lib\\site-packages (from typer[all]<1.0,>=0.9->gradio) (0.4.6)\n",
      "Requirement already satisfied: shellingham<2.0.0,>=1.3.0 in c:\\users\\styli\\miniconda3\\envs\\pydata-book\\lib\\site-packages (from typer[all]<1.0,>=0.9->gradio) (1.5.4)\n",
      "Requirement already satisfied: rich<14.0.0,>=10.11.0 in c:\\users\\styli\\miniconda3\\envs\\pydata-book\\lib\\site-packages (from typer[all]<1.0,>=0.9->gradio) (13.7.0)\n",
      "Requirement already satisfied: h11>=0.8 in c:\\users\\styli\\miniconda3\\envs\\pydata-book\\lib\\site-packages (from uvicorn>=0.14.0->gradio) (0.14.0)\n",
      "Requirement already satisfied: anyio<4.0.0,>=3.7.1 in c:\\users\\styli\\miniconda3\\envs\\pydata-book\\lib\\site-packages (from fastapi->gradio) (3.7.1)\n",
      "Requirement already satisfied: starlette<0.28.0,>=0.27.0 in c:\\users\\styli\\miniconda3\\envs\\pydata-book\\lib\\site-packages (from fastapi->gradio) (0.27.0)\n",
      "Requirement already satisfied: httpcore==1.* in c:\\users\\styli\\miniconda3\\envs\\pydata-book\\lib\\site-packages (from httpx->gradio) (1.0.2)\n",
      "Requirement already satisfied: sniffio in c:\\users\\styli\\miniconda3\\envs\\pydata-book\\lib\\site-packages (from httpx->gradio) (1.3.0)\n",
      "Requirement already satisfied: exceptiongroup in c:\\users\\styli\\miniconda3\\envs\\pydata-book\\lib\\site-packages (from anyio<4.0.0,>=3.7.1->fastapi->gradio) (1.1.3)\n",
      "Requirement already satisfied: attrs>=22.2.0 in c:\\users\\styli\\miniconda3\\envs\\pydata-book\\lib\\site-packages (from jsonschema>=3.0->altair<6.0,>=4.2.0->gradio) (23.1.0)\n",
      "Requirement already satisfied: jsonschema-specifications>=2023.03.6 in c:\\users\\styli\\miniconda3\\envs\\pydata-book\\lib\\site-packages (from jsonschema>=3.0->altair<6.0,>=4.2.0->gradio) (2023.7.1)\n",
      "Requirement already satisfied: referencing>=0.28.4 in c:\\users\\styli\\miniconda3\\envs\\pydata-book\\lib\\site-packages (from jsonschema>=3.0->altair<6.0,>=4.2.0->gradio) (0.30.2)\n",
      "Requirement already satisfied: rpds-py>=0.7.1 in c:\\users\\styli\\miniconda3\\envs\\pydata-book\\lib\\site-packages (from jsonschema>=3.0->altair<6.0,>=4.2.0->gradio) (0.10.4)\n",
      "Requirement already satisfied: six>=1.5 in c:\\users\\styli\\miniconda3\\envs\\pydata-book\\lib\\site-packages (from python-dateutil>=2.7->matplotlib~=3.0->gradio) (1.16.0)\n",
      "Requirement already satisfied: markdown-it-py>=2.2.0 in c:\\users\\styli\\miniconda3\\envs\\pydata-book\\lib\\site-packages (from rich<14.0.0,>=10.11.0->typer[all]<1.0,>=0.9->gradio) (3.0.0)\n",
      "Requirement already satisfied: pygments<3.0.0,>=2.13.0 in c:\\users\\styli\\miniconda3\\envs\\pydata-book\\lib\\site-packages (from rich<14.0.0,>=10.11.0->typer[all]<1.0,>=0.9->gradio) (2.16.1)\n",
      "Requirement already satisfied: mdurl~=0.1 in c:\\users\\styli\\miniconda3\\envs\\pydata-book\\lib\\site-packages (from markdown-it-py>=2.2.0->rich<14.0.0,>=10.11.0->typer[all]<1.0,>=0.9->gradio) (0.1.2)\n"
     ]
    }
   ],
   "source": [
    "!pip install --upgrade gradio"
   ]
  },
  {
   "cell_type": "code",
   "execution_count": 10,
   "id": "198fa1fe-18a5-4fd2-9810-40caef1b47a2",
   "metadata": {},
   "outputs": [],
   "source": [
    "import gradio as gr"
   ]
  },
  {
   "cell_type": "code",
   "execution_count": 11,
   "id": "9428e412-5c7c-446c-9ebc-82b49e901c18",
   "metadata": {},
   "outputs": [
    {
     "name": "stdout",
     "output_type": "stream",
     "text": [
      "Requirement already satisfied: pydub in c:\\users\\styli\\miniconda3\\envs\\pydata-book\\lib\\site-packages (0.25.1)\n"
     ]
    }
   ],
   "source": [
    "!pip install pydub"
   ]
  },
  {
   "cell_type": "code",
   "execution_count": 12,
   "id": "8a311de8-037e-4746-950c-87c618cb314c",
   "metadata": {},
   "outputs": [],
   "source": [
    "from pydub import AudioSegment\n",
    "import io"
   ]
  },
  {
   "cell_type": "code",
   "execution_count": 13,
   "id": "598fe767-2b20-4f22-b91d-0d63a079b13d",
   "metadata": {},
   "outputs": [],
   "source": [
    "def read_pdf_summarize_and_speak(pdf_path):\n",
    "    pdf_reader=PdfReader(pdf_path)\n",
    "    content=\"\"\n",
    "    for page in pdf_reader.pages:\n",
    "        text=page.extract_text()\n",
    "        content += text + \"\\n\"\n",
    "    \n",
    "    # Pattern to match in-text citations (e.g., [1], [2, 3], or (Author, Year))\n",
    "    in_text_citations_pattern = r'\\[\\d+(,\\s*\\d+)*\\]|\\([A-Za-z ]+,\\s*\\d{4}\\)'\n",
    "\n",
    "    # Pattern to match the References section at the end of the document\n",
    "    references_section_pattern = r'\\nReferences[\\s\\S]*'\n",
    "\n",
    "    # Remove in-text citations\n",
    "    text_without_citations = re.sub(in_text_citations_pattern, '', content)\n",
    "\n",
    "    # Remove the References section\n",
    "    text_without_references = re.sub(references_section_pattern, '', text_without_citations)\n",
    "\n",
    "    # The new variable without the references\n",
    "    cleaned_text = text_without_references\n",
    "\n",
    "    model_name = 't5-large'\n",
    "    tokenizer = T5Tokenizer.from_pretrained(model_name)\n",
    "    model = T5ForConditionalGeneration.from_pretrained(model_name)\n",
    "    to_tokenize = \"summarize: \" + content\n",
    "    inputs = tokenizer.encode(to_tokenize, return_tensors=\"pt\", max_length=512, truncation=True)\n",
    "    summary_ids = model.generate(inputs, max_length=48, length_penalty=2, num_beams=5, early_stopping=True)\n",
    "    summary = tokenizer.decode(summary_ids[0], skip_special_tokens=True)\n",
    "    summary_text=summary.capitalize()\n",
    "    engine = pyttsx3.init()\n",
    "    engine.save_to_file(summary_text, 'summary.mp3')\n",
    "    engine.runAndWait()  # Blocks while processing all currently queued commands\n",
    "    Audio('summary.mp3',autoplay=True)\n",
    "    \n"
   ]
  },
  {
   "cell_type": "code",
   "execution_count": 14,
   "id": "21afd8c7-a80c-4672-b034-736674bba21b",
   "metadata": {},
   "outputs": [],
   "source": [
    "pdf_file_path = \"C:/Users/styli/OneDrive/Desktop/OPIT/AAI/Assessment 3/Article 11 Hidden Technical Debt in Machine Learning Systems.pdf\""
   ]
  },
  {
   "cell_type": "code",
   "execution_count": 15,
   "id": "52e4ac73-c1d9-48aa-b996-61ecead34772",
   "metadata": {},
   "outputs": [
    {
     "name": "stderr",
     "output_type": "stream",
     "text": [
      "C:\\Users\\styli\\miniconda3\\envs\\pydata-book\\lib\\site-packages\\transformers\\models\\t5\\tokenization_t5.py:240: FutureWarning: This tokenizer was incorrectly instantiated with a model max length of 512 which will be corrected in Transformers v5.\n",
      "For now, this behavior is kept to avoid breaking backwards compatibility when padding/encoding with `truncation is True`.\n",
      "- Be aware that you SHOULD NOT rely on t5-large automatically truncating your input to 512 when padding/encoding.\n",
      "- If you want to encode/pad to sequences longer than 512 you can either instantiate this tokenizer with `model_max_length` or pass `max_length` when encoding/padding.\n",
      "- To avoid this warning, please instantiate this tokenizer with `model_max_length` set to your preferred value.\n",
      "  warnings.warn(\n",
      "You are using the default legacy behaviour of the <class 'transformers.models.t5.tokenization_t5.T5Tokenizer'>. This is expected, and simply means that the `legacy` (previous) behavior will be used so nothing changes for you. If you want to use the new behaviour, set `legacy=False`. This should only be set if you understand what it means, and thouroughly read the reason why this was added as explained in https://github.com/huggingface/transformers/pull/24565\n",
      "Special tokens have been added in the vocabulary, make sure the associated word embeddings are fine-tuned or trained.\n"
     ]
    }
   ],
   "source": [
    "read_pdf_summarize_and_speak(pdf_file_path)"
   ]
  },
  {
   "cell_type": "code",
   "execution_count": 21,
   "id": "e04a88aa-e71b-44c8-97d4-0f1c431c2bea",
   "metadata": {},
   "outputs": [],
   "source": [
    "iface = gr.Interface(\n",
    "    fn=read_pdf_summarize_and_speak,\n",
    "    inputs=gr.File(label=\"Upload PDF\"),\n",
    "    outputs=gr.Audio(label=\"Speech Summary\"),\n",
    "    title=\"PDF to Speech Summarizer\",\n",
    "    description=\"Upload a PDF document to receive a one-sentence summarized version in audio format.\"\n",
    ")\n"
   ]
  },
  {
   "cell_type": "code",
   "execution_count": 22,
   "id": "498e193d-3fab-4380-83a3-ab072ad3219d",
   "metadata": {},
   "outputs": [
    {
     "name": "stdout",
     "output_type": "stream",
     "text": [
      "Running on local URL:  http://127.0.0.1:7864\n",
      "\n",
      "Could not create share link. Please check your internet connection or our status page: https://status.gradio.app.\n"
     ]
    },
    {
     "data": {
      "text/html": [
       "<div><iframe src=\"http://127.0.0.1:7864/\" width=\"100%\" height=\"500\" allow=\"autoplay; camera; microphone; clipboard-read; clipboard-write;\" frameborder=\"0\" allowfullscreen></iframe></div>"
      ],
      "text/plain": [
       "<IPython.core.display.HTML object>"
      ]
     },
     "metadata": {},
     "output_type": "display_data"
    },
    {
     "data": {
      "text/plain": []
     },
     "execution_count": 22,
     "metadata": {},
     "output_type": "execute_result"
    }
   ],
   "source": [
    "iface.launch(share=True)"
   ]
  }
 ],
 "metadata": {
  "kernelspec": {
   "display_name": "Python 3 (ipykernel)",
   "language": "python",
   "name": "python3"
  },
  "language_info": {
   "codemirror_mode": {
    "name": "ipython",
    "version": 3
   },
   "file_extension": ".py",
   "mimetype": "text/x-python",
   "name": "python",
   "nbconvert_exporter": "python",
   "pygments_lexer": "ipython3",
   "version": "3.10.12"
  }
 },
 "nbformat": 4,
 "nbformat_minor": 5
}
